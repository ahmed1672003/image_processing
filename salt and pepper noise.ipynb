{
 "cells": [
  {
   "cell_type": "code",
   "execution_count": 10,
   "id": "602d6865-61ff-44de-b6ff-418164c82933",
   "metadata": {
    "tags": []
   },
   "outputs": [
    {
     "name": "stdout",
     "output_type": "stream",
     "text": [
      "[0.39481407 0.2688502  0.9337746 ]\n"
     ]
    }
   ],
   "source": [
    "# libraries\n",
    "#cv2: This library is imported for image processing tasks, providing functions to read, display, and manipulate images.\n",
    "import cv2\n",
    "#numpy: This library is used for numerical computations and array manipulation, offering efficient ways to work with image data.\n",
    "import numpy as np\n",
    "test= np.random.random(3)  # رقم عشوائي بين 0 و 1\n",
    "print(test)"
   ]
  },
  {
   "cell_type": "code",
   "execution_count": null,
   "id": "71d8492f",
   "metadata": {},
   "outputs": [],
   "source": [
    "\n",
    "# orginal image\n",
    "#reads the image file \"Lenna.png\" in grayscale mode (0). The image is stored as a NumPy array in the variable img.\n",
    "img = cv2.imread(r'original image.jpeg',0)\n",
    "#img = img/255 normalizes the pixel values to the range [0, 1], ensuring consistent intensity representation.\n",
    "img =img/255\n",
    "\n",
    "#displays the original image in a window titled \"original image\".\n",
    "cv2.imshow('original image', img)\n",
    "#waits for a key press before proceeding.\n",
    "cv2.waitKey(0)\n",
    "#closes all open image windows.\n",
    "cv2.destroyAllWindows()"
   ]
  },
  {
   "cell_type": "code",
   "execution_count": 3,
   "id": "9a121a2c-58d0-47a6-82a5-058d2ce0b40e",
   "metadata": {},
   "outputs": [],
   "source": [
    "# blank image\n",
    "#extracts the height (y) and width (x) of the original image.\n",
    "x=img.shape[0]\n",
    "y=img.shape[1]\n",
    "#creates a new NumPy array filled with zeros, having the same dimensions as the original image, to hold the noisy image.\n",
    "g = np.zeros((x,y), dtype=np.float32)"
   ]
  },
  {
   "cell_type": "code",
   "execution_count": 4,
   "id": "9f0f38fa-2f54-49f7-a5e4-5ff9da7a759b",
   "metadata": {},
   "outputs": [],
   "source": [
    "# salt and pepper amount\n",
    "#sets the probability of pepper noise (black pixels).\n",
    "pepper = 0.1\n",
    "#sets the probability of salt noise (white pixels).\n",
    "salt = 0.95\n",
    "\n",
    "# create salt and peper noise image \n",
    "#The nested for loops iterate through each pixel of the original image:\n",
    "for i in range(x):\n",
    "    for j in range(y):\n",
    "        #generates a random number between 0 and 1.\n",
    "        rdn = np.random.random()\n",
    "        #If rdn is less than pepper, the corresponding pixel in the noisy image g is set to 0 (black), representing pepper noise.\n",
    "        if rdn < pepper:\n",
    "            g[i][j] = 0\n",
    "        #If rdn is greater than salt, the pixel is set to 1 (white), representing salt noise.\n",
    "        elif rdn > salt:\n",
    "            g[i][j] = 1\n",
    "        #Otherwise, the pixel value from the original image is copied to the noisy image.\n",
    "        else:\n",
    "            g[i][j]= img[i][j]\n",
    "#displays the image with added salt and pepper noise\n",
    "cv2.imshow('image with noise', g)\n",
    "##waits for a key press before proceeding.\n",
    "cv2.waitKey(0)\n",
    "##closes all open image windows.\n",
    "cv2.destroyAllWindows()\n"
   ]
  }
 ],
 "metadata": {
  "kernelspec": {
   "display_name": "Python 3",
   "language": "python",
   "name": "python3"
  },
  "language_info": {
   "codemirror_mode": {
    "name": "ipython",
    "version": 3
   },
   "file_extension": ".py",
   "mimetype": "text/x-python",
   "name": "python",
   "nbconvert_exporter": "python",
   "pygments_lexer": "ipython3",
   "version": "3.12.6"
  }
 },
 "nbformat": 4,
 "nbformat_minor": 5
}
