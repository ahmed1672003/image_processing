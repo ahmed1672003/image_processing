{
 "cells": [
  {
   "cell_type": "code",
   "execution_count": 2,
   "id": "cb1e709f",
   "metadata": {},
   "outputs": [],
   "source": [
    "import cv2 as c\n",
    "import numpy as p"
   ]
  },
  {
   "cell_type": "code",
   "execution_count": 3,
   "id": "2c219c0b",
   "metadata": {},
   "outputs": [
    {
     "name": "stdout",
     "output_type": "stream",
     "text": [
      "Shape (225, 225, 3)\n",
      "size 151875\n"
     ]
    }
   ],
   "source": [
    "img = c.imread('original image.jpeg')\n",
    "c.imshow('img',img)\n",
    "px=img[100,100]\n",
    "print ('Shape',img.shape)\n",
    "print('size',img.size) \n"
   ]
  },
  {
   "cell_type": "code",
   "execution_count": 4,
   "id": "eb4d7f8b",
   "metadata": {},
   "outputs": [],
   "source": [
    "imgG=c.imread('original image.jpeg',0)\n",
    "c.imshow('imgG',imgG)\n",
    "key =c.waitKey(0)\n",
    "if key ==27:\n",
    "    c.destroyAllWindows()\n",
    "elif key ==ord('s'):\n",
    "    c.imwrite('imgG.jpeg',imgG)\n",
    "    c.destroyAllWindows()\n"
   ]
  },
  {
   "cell_type": "code",
   "execution_count": null,
   "id": "088cf828",
   "metadata": {},
   "outputs": [],
   "source": []
  },
  {
   "cell_type": "code",
   "execution_count": null,
   "id": "cb3259de",
   "metadata": {},
   "outputs": [],
   "source": [
    "\n",
    "\n"
   ]
  }
 ],
 "metadata": {
  "kernelspec": {
   "display_name": "Python 3",
   "language": "python",
   "name": "python3"
  },
  "language_info": {
   "codemirror_mode": {
    "name": "ipython",
    "version": 3
   },
   "file_extension": ".py",
   "mimetype": "text/x-python",
   "name": "python",
   "nbconvert_exporter": "python",
   "pygments_lexer": "ipython3",
   "version": "3.12.6"
  }
 },
 "nbformat": 4,
 "nbformat_minor": 5
}
