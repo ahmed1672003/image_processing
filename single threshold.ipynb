{
 "cells": [
  {
   "cell_type": "code",
   "execution_count": 5,
   "id": "e72c96db-1ce4-4c5d-9a4f-046cc76cc1d7",
   "metadata": {
    "tags": []
   },
   "outputs": [],
   "source": [
    "import cv2  # OpenCV library for image processing\n",
    "import numpy as np  # NumPy for numerical computations"
   ]
  },
  {
   "cell_type": "code",
   "execution_count": 6,
   "id": "eb2153a7-5eba-48bf-a78d-f8690ea6d2e2",
   "metadata": {
    "tags": []
   },
   "outputs": [],
   "source": [
    "#cv2.imread() loads the specified image file.\n",
    "#The second argument 0 loads the image in grayscale, as thresholding typically works best with grayscale images.\n",
    "img = cv2.imread('original image.jpeg', 0)  # Load the image in grayscale"
   ]
  },
  {
   "cell_type": "code",
   "execution_count": 7,
   "id": "69b99bc0-3d67-4b36-bb82-3d9c475993cd",
   "metadata": {
    "tags": []
   },
   "outputs": [],
   "source": [
    "#img: The input image.\n",
    "#threshold: The value used to separate pixels.\n",
    "#255: The maximum value assigned to pixels above the threshold.\n",
    "#cv2.THRESH_BINARY: Specifies binary thresholding, setting pixels above the threshold to 255 (white) and others to 0 (black).\n",
    "#ret: Returns the chosen threshold value (useful for adaptive methods).\n",
    "#thresh_img: The output binary image after thresholding.\n",
    "#ret: The chosen threshold value (useful for adaptive methods).\n",
    "#thresh_img: The output binary image after thresholding.\n",
    "\n",
    "\n",
    "threshold = 127  # Set the threshold value (adjust as needed)\n",
    "ret, thresh_img = cv2.threshold(img, threshold, 255, cv2.THRESH_BINARY)"
   ]
  },
  {
   "cell_type": "code",
   "execution_count": 8,
   "id": "5eb1d70b-1f7c-4174-8eb7-1980dc3864ee",
   "metadata": {},
   "outputs": [],
   "source": [
    "#In binary thresholding:\n",
    "\n",
    "#Pixels with values above the threshold (127) are set to 255 (white).\n",
    "#Pixels with values less than or equal to the threshold are set to 0 (black).\n",
    "#This creates a black-and-white image where regions of interest are often separated from the background."
   ]
  },
  {
   "cell_type": "code",
   "execution_count": 9,
   "id": "8a04d61a-68db-488c-9ae3-942637d83a35",
   "metadata": {},
   "outputs": [],
   "source": [
    "cv2.imshow('Original Image', img)  # Display the original image\n",
    "cv2.imshow('Thresholded Image', thresh_img)  # Display the thresholded image\n",
    "cv2.waitKey(0)  # Wait for a key press to close the windows\n",
    "cv2.destroyAllWindows()  # Close all open windows"
   ]
  },
  {
   "cell_type": "code",
   "execution_count": null,
   "id": "5f38213e-c912-4370-ae39-4abcb18f76ac",
   "metadata": {},
   "outputs": [],
   "source": [
    "\n"
   ]
  }
 ],
 "metadata": {
  "kernelspec": {
   "display_name": "Python 3",
   "language": "python",
   "name": "python3"
  },
  "language_info": {
   "codemirror_mode": {
    "name": "ipython",
    "version": 3
   },
   "file_extension": ".py",
   "mimetype": "text/x-python",
   "name": "python",
   "nbconvert_exporter": "python",
   "pygments_lexer": "ipython3",
   "version": "3.12.6"
  }
 },
 "nbformat": 4,
 "nbformat_minor": 5
}
