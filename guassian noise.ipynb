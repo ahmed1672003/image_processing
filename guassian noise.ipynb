{
 "cells": [
  {
   "cell_type": "code",
   "execution_count": null,
   "id": "7e390beb-fc59-4749-874e-91b81865e699",
   "metadata": {
    "tags": []
   },
   "outputs": [],
   "source": [
    "#cv2: This library is imported for image processing tasks using OpenCV.\n",
    "#numpy: This library is imported for numerical computations and array manipulation.\n",
    "import cv2\n",
    "import numpy as np\n",
    "\n",
    "# original image\n",
    "#This line reads the original image file 'original image.jpeg' in grayscale mode (0) and stores it in the variable f.\n",
    "f = cv2.imread('original image.jpeg', 0)\n",
    "#This line normalizes the pixel values of the image to the range of 0 to 1 by dividing them by 255.\n",
    "f = f/255 \n",
    "\n",
    "#This line displays the original image in a window titled 'original image'.\n",
    "#cv2.imshow('original image', f)\n",
    "#This line waits for a key press before proceeding to the next step.\n",
    "#cv2.waitKey(0)\n",
    "#This line closes all open image windows.\n",
    "#cv2.destroyAllWindows()\n",
    "\n",
    "# create gaussian noise\n",
    "#This line obtains the dimensions (width and height) of the original image and stores them in variables x and y.\n",
    "x, y = f.shape\n",
    "#This line sets the mean of the Gaussian noise to 0.\n",
    "mean = 0\n",
    "#This line sets the variance of the Gaussian noise to 0.01.\n",
    "var = 0.01\n",
    "#This line calculates the standard deviation of the Gaussian noise from the variance.\n",
    "sigma = np.sqrt(var)\n",
    "\n",
    "'''This line generates a matrix of Gaussian noise values with the specified mean, standard deviation,\n",
    " and dimensions matching the original image.'''\n",
    "n = np.random.normal(loc=mean, \n",
    "                     scale=sigma, \n",
    "                     size=(x,y))\n",
    "\n",
    "#cv2.imshow('Gaussian noise', n)\n",
    "#cv2.waitKey(0)\n",
    "#cv2.destroyAllWindows()\n",
    "\n",
    "\n",
    "\n",
    "\n",
    "# add a gaussian noise\n",
    "g = f + n\n",
    "\n",
    "#cv2.imshow('Corrupted Image', g)\n",
    "#cv2.waitKey(0)\n",
    "#cv2.destroyAllWindows()\n",
    "\n",
    "# display all\n",
    "cv2.imshow('original image', f)\n",
    "cv2.imshow('Gaussian noise', n)\n",
    "cv2.imshow('Corrupted Image', g)\n",
    "\n",
    "cv2.waitKey(0)\n",
    "cv2.destroyAllWindows()"
   ]
  },
  {
   "cell_type": "code",
   "execution_count": null,
   "id": "321b9d87",
   "metadata": {},
   "outputs": [],
   "source": []
  },
  {
   "cell_type": "code",
   "execution_count": null,
   "id": "5089dde6-535f-44db-88ff-97e763112d71",
   "metadata": {},
   "outputs": [
    {
     "ename": "SyntaxError",
     "evalue": "invalid syntax (243101766.py, line 1)",
     "output_type": "error",
     "traceback": [
      "  \u001b[36mCell\u001b[39m\u001b[36m \u001b[39m\u001b[32mIn[6]\u001b[39m\u001b[32m, line 1\u001b[39m\n\u001b[31m    \u001b[39m\u001b[31mnpm install opencv-python\u001b[39m\n        ^\n\u001b[31mSyntaxError\u001b[39m\u001b[31m:\u001b[39m invalid syntax\n"
     ]
    }
   ],
   "source": []
  }
 ],
 "metadata": {
  "kernelspec": {
   "display_name": "Python 3",
   "language": "python",
   "name": "python3"
  },
  "language_info": {
   "codemirror_mode": {
    "name": "ipython",
    "version": 3
   },
   "file_extension": ".py",
   "mimetype": "text/x-python",
   "name": "python",
   "nbconvert_exporter": "python",
   "pygments_lexer": "ipython3",
   "version": "3.12.6"
  }
 },
 "nbformat": 4,
 "nbformat_minor": 5
}
